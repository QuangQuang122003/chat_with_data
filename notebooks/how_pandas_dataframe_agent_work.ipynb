{
 "cells": [
  {
   "cell_type": "code",
   "execution_count": 1,
   "metadata": {},
   "outputs": [
    {
     "data": {
      "text/plain": [
       "True"
      ]
     },
     "execution_count": 1,
     "metadata": {},
     "output_type": "execute_result"
    }
   ],
   "source": [
    "from langchain_experimental.agents.agent_toolkits.pandas.base import create_pandas_dataframe_agent\n",
    "from langchain_openai import ChatOpenAI\n",
    "import matplotlib.pyplot as plt\n",
    "import pandas as pd\n",
    "from dotenv import load_dotenv\n",
    "\n",
    "# load environment varibles\n",
    "load_dotenv()"
   ]
  },
  {
   "cell_type": "code",
   "execution_count": 3,
   "metadata": {},
   "outputs": [
    {
     "data": {
      "text/plain": [
       "ChatOpenAI(client=<openai.resources.chat.completions.Completions object at 0x1526cdbb0>, async_client=<openai.resources.chat.completions.AsyncCompletions object at 0x153006c70>, root_client=<openai.OpenAI object at 0x1527ad280>, root_async_client=<openai.AsyncOpenAI object at 0x1526cdeb0>, model_name='gpt-4o-mini', temperature=0.0, model_kwargs={}, openai_api_key=SecretStr('**********'), max_tokens=1000)"
      ]
     },
     "execution_count": 3,
     "metadata": {},
     "output_type": "execute_result"
    }
   ],
   "source": [
    "import sys\n",
    "sys.path.append(\"/Users/mac/Desktop/chat_with_data/dagpt\")\n",
    "from src.models.llms import load_llm\n",
    "\n",
    "MODEL_NAME = \"gpt-4o-mini\"\n",
    "llm = load_llm(model_name=MODEL_NAME)\n",
    "llm"
   ]
  },
  {
   "cell_type": "code",
   "execution_count": 4,
   "metadata": {},
   "outputs": [
    {
     "data": {
      "text/plain": [
       "AIMessage(content=\"Hello! I’m an AI language model created by OpenAI. I'm here to assist you with information, answer questions, and engage in conversation. How can I help you today?\", additional_kwargs={'refusal': None}, response_metadata={'token_usage': {'completion_tokens': 36, 'prompt_tokens': 13, 'total_tokens': 49, 'completion_tokens_details': {'audio_tokens': None, 'reasoning_tokens': 0}, 'prompt_tokens_details': {'audio_tokens': None, 'cached_tokens': 0}}, 'model_name': 'gpt-4o-mini-2024-07-18', 'system_fingerprint': 'fp_e2bde53e6e', 'finish_reason': 'stop', 'logprobs': None}, id='run-5fd04e5d-21fe-4fa4-afeb-8a56437b0de3-0', usage_metadata={'input_tokens': 13, 'output_tokens': 36, 'total_tokens': 49, 'input_token_details': {'cache_read': 0}, 'output_token_details': {'reasoning': 0}})"
      ]
     },
     "execution_count": 4,
     "metadata": {},
     "output_type": "execute_result"
    }
   ],
   "source": [
    "llm.invoke(\"Hello. Who are you?\")"
   ]
  },
  {
   "cell_type": "code",
   "execution_count": 5,
   "metadata": {},
   "outputs": [
    {
     "data": {
      "text/plain": [
       "AgentExecutor(verbose=True, agent=RunnableMultiActionAgent(runnable=RunnableAssign(mapper={\n",
       "  agent_scratchpad: RunnableLambda(lambda x: message_formatter(x['intermediate_steps']))\n",
       "})\n",
       "| ChatPromptTemplate(input_variables=['agent_scratchpad', 'input'], input_types={'agent_scratchpad': list[typing.Annotated[typing.Union[typing.Annotated[langchain_core.messages.ai.AIMessage, Tag(tag='ai')], typing.Annotated[langchain_core.messages.human.HumanMessage, Tag(tag='human')], typing.Annotated[langchain_core.messages.chat.ChatMessage, Tag(tag='chat')], typing.Annotated[langchain_core.messages.system.SystemMessage, Tag(tag='system')], typing.Annotated[langchain_core.messages.function.FunctionMessage, Tag(tag='function')], typing.Annotated[langchain_core.messages.tool.ToolMessage, Tag(tag='tool')], typing.Annotated[langchain_core.messages.ai.AIMessageChunk, Tag(tag='AIMessageChunk')], typing.Annotated[langchain_core.messages.human.HumanMessageChunk, Tag(tag='HumanMessageChunk')], typing.Annotated[langchain_core.messages.chat.ChatMessageChunk, Tag(tag='ChatMessageChunk')], typing.Annotated[langchain_core.messages.system.SystemMessageChunk, Tag(tag='SystemMessageChunk')], typing.Annotated[langchain_core.messages.function.FunctionMessageChunk, Tag(tag='FunctionMessageChunk')], typing.Annotated[langchain_core.messages.tool.ToolMessageChunk, Tag(tag='ToolMessageChunk')]], FieldInfo(annotation=NoneType, required=True, discriminator=Discriminator(discriminator=<function _get_type at 0x10ceec700>, custom_error_type=None, custom_error_message=None, custom_error_context=None))]]}, partial_variables={}, messages=[SystemMessage(content='\\nYou are working with a pandas dataframe in Python. The name of the dataframe is `df`.\\nThis is the result of `print(df.head())`:\\n|    | SalesOrderNumber   |   SalesOrderLineNumber | OrderDate   | CustomerName   | EmailAddress                  | Item                    |   Quantity |   UnitPrice |   TaxAmount |\\n|---:|:-------------------|-----------------------:|:------------|:---------------|:------------------------------|:------------------------|-----------:|------------:|------------:|\\n|  0 | SO43701            |                      1 | 2019-07-01  | Christy Zhu    | christy12@adventure-works.com | Mountain-100 Silver, 44 |          1 |    3399.99  |    271.999  |\\n|  1 | SO43704            |                      1 | 2019-07-01  | Julio Ruiz     | julio1@adventure-works.com    | Mountain-100 Black, 48  |          1 |    3374.99  |    269.999  |\\n|  2 | SO43705            |                      1 | 2019-07-01  | Curtis Lu      | curtis9@adventure-works.com   | Mountain-100 Silver, 38 |          1 |    3399.99  |    271.999  |\\n|  3 | SO43700            |                      1 | 2019-07-01  | Ruben Prasad   | ruben10@adventure-works.com   | Road-650 Black, 62      |          1 |     699.098 |     55.9279 |\\n|  4 | SO43703            |                      1 | 2019-07-01  | Albert Alvarez | albert7@adventure-works.com   | Road-150 Red, 62        |          1 |    3578.27  |    286.262  |', additional_kwargs={}, response_metadata={}), HumanMessagePromptTemplate(prompt=PromptTemplate(input_variables=['input'], input_types={}, partial_variables={}, template='{input}'), additional_kwargs={}), MessagesPlaceholder(variable_name='agent_scratchpad')])\n",
       "| RunnableBinding(bound=ChatOpenAI(client=<openai.resources.chat.completions.Completions object at 0x1526cdbb0>, async_client=<openai.resources.chat.completions.AsyncCompletions object at 0x153006c70>, root_client=<openai.OpenAI object at 0x1527ad280>, root_async_client=<openai.AsyncOpenAI object at 0x1526cdeb0>, model_name='gpt-4o-mini', temperature=0.0, model_kwargs={}, openai_api_key=SecretStr('**********'), max_tokens=1000), kwargs={'tools': [{'type': 'function', 'function': {'name': 'python_repl_ast', 'description': 'A Python shell. Use this to execute python commands. Input should be a valid python command. When using this tool, sometimes output is abbreviated - make sure it does not look abbreviated before using it in your answer.', 'parameters': {'properties': {'query': {'description': 'code snippet to run', 'type': 'string'}}, 'required': ['query'], 'type': 'object'}}}]}, config={}, config_factories=[])\n",
       "| ToolsAgentOutputParser(), input_keys_arg=['input'], return_keys_arg=['output'], stream_runnable=True), tools=[PythonAstREPLTool(globals={}, locals={'df':       SalesOrderNumber  SalesOrderLineNumber   OrderDate    CustomerName  \\\n",
       "0              SO43701                     1  2019-07-01     Christy Zhu   \n",
       "1              SO43704                     1  2019-07-01      Julio Ruiz   \n",
       "2              SO43705                     1  2019-07-01       Curtis Lu   \n",
       "3              SO43700                     1  2019-07-01    Ruben Prasad   \n",
       "4              SO43703                     1  2019-07-01  Albert Alvarez   \n",
       "...                ...                   ...         ...             ...   \n",
       "32713          SO63093                     2  2021-12-31  Rebekah Martin   \n",
       "32714          SO63113                     1  2021-12-31  Carolyn Alonso   \n",
       "32715          SO63113                     2  2021-12-31  Carolyn Alonso   \n",
       "32716          SO63066                     1  2021-12-31  Teresa Navarro   \n",
       "32717          SO63066                     2  2021-12-31  Teresa Navarro   \n",
       "\n",
       "                        EmailAddress                            Item  \\\n",
       "0      christy12@adventure-works.com         Mountain-100 Silver, 44   \n",
       "1         julio1@adventure-works.com          Mountain-100 Black, 48   \n",
       "2        curtis9@adventure-works.com         Mountain-100 Silver, 38   \n",
       "3        ruben10@adventure-works.com              Road-650 Black, 62   \n",
       "4        albert7@adventure-works.com                Road-150 Red, 62   \n",
       "...                              ...                             ...   \n",
       "32713  rebekah20@adventure-works.com             Patch Kit/8 Patches   \n",
       "32714  carolyn29@adventure-works.com           Road-550-W Yellow, 48   \n",
       "32715  carolyn29@adventure-works.com  Short-Sleeve Classic Jersey, S   \n",
       "32716   teresa10@adventure-works.com              Mountain Tire Tube   \n",
       "32717   teresa10@adventure-works.com             Patch Kit/8 Patches   \n",
       "\n",
       "       Quantity  UnitPrice  TaxAmount  \n",
       "0             1  3399.9900   271.9992  \n",
       "1             1  3374.9900   269.9992  \n",
       "2             1  3399.9900   271.9992  \n",
       "3             1   699.0982    55.9279  \n",
       "4             1  3578.2700   286.2616  \n",
       "...         ...        ...        ...  \n",
       "32713         1     2.2900     0.1832  \n",
       "32714         1  1120.4900    89.6392  \n",
       "32715         1    53.9900     4.3192  \n",
       "32716         1     4.9900     0.3992  \n",
       "32717         1     2.2900     0.1832  \n",
       "\n",
       "[32718 rows x 9 columns]})], return_intermediate_steps=True)"
      ]
     },
     "execution_count": 5,
     "metadata": {},
     "output_type": "execute_result"
    }
   ],
   "source": [
    "df = pd.read_csv(\"../data/raw/sales.csv\")\n",
    "da_agent = create_pandas_dataframe_agent(\n",
    "    llm=llm,\n",
    "    df=df,\n",
    "    agent_type=\"tool-calling\",\n",
    "    allow_dangerous_code=True,\n",
    "    verbose=True,\n",
    "    return_intermediate_steps=True,\n",
    ")\n",
    "da_agent"
   ]
  },
  {
   "cell_type": "code",
   "execution_count": 6,
   "metadata": {},
   "outputs": [
    {
     "name": "stderr",
     "output_type": "stream",
     "text": [
      "/var/folders/82/hv_1k2g54vg4xxdg44wz95vm0000gn/T/ipykernel_53230/168530141.py:2: LangChainDeprecationWarning: The method `Chain.__call__` was deprecated in langchain 0.1.0 and will be removed in 1.0. Use :meth:`~invoke` instead.\n",
      "  response = da_agent(query)\n"
     ]
    },
    {
     "name": "stdout",
     "output_type": "stream",
     "text": [
      "\n",
      "\n",
      "\u001b[1m> Entering new AgentExecutor chain...\u001b[0m\n",
      "\u001b[32;1m\u001b[1;3mThe provided data appears to be a sample of sales order records from a retail or e-commerce business. Here’s a breakdown of the columns in the dataframe:\n",
      "\n",
      "1. **SalesOrderNumber**: A unique identifier for each sales order. This number helps track individual orders.\n",
      "\n",
      "2. **SalesOrderLineNumber**: This indicates the line item number within a sales order. It allows for multiple items to be associated with a single sales order.\n",
      "\n",
      "3. **OrderDate**: The date when the order was placed. This is important for tracking sales over time and for inventory management.\n",
      "\n",
      "4. **CustomerName**: The name of the customer who placed the order. This helps in identifying who made the purchase.\n",
      "\n",
      "5. **EmailAddress**: The email address of the customer. This can be used for communication regarding the order, such as confirmations or shipping updates.\n",
      "\n",
      "6. **Item**: The name or description of the item purchased. This provides details about what the customer ordered.\n",
      "\n",
      "7. **Quantity**: The number of units of the item that were purchased. This is crucial for inventory management and sales analysis.\n",
      "\n",
      "8. **UnitPrice**: The price per unit of the item. This is used to calculate the total cost of the order.\n",
      "\n",
      "9. **TaxAmount**: The amount of tax applied to the order. This is important for financial reporting and compliance.\n",
      "\n",
      "Overall, this dataset is useful for analyzing sales performance, customer behavior, and inventory management. It can be used to generate insights into sales trends, customer preferences, and financial metrics.\u001b[0m\n",
      "\n",
      "\u001b[1m> Finished chain.\u001b[0m\n"
     ]
    }
   ],
   "source": [
    "query = \"Describe this data\"\n",
    "response = da_agent(query)"
   ]
  },
  {
   "cell_type": "code",
   "execution_count": 12,
   "metadata": {},
   "outputs": [
    {
     "name": "stdout",
     "output_type": "stream",
     "text": [
      "import pandas as pd\n",
      "import matplotlib.pyplot as plt\n",
      "\n",
      "# Assuming df is already defined as per the provided data\n",
      "plt.figure(figsize=(10, 6))\n",
      "plt.scatter(df['UnitPrice'], df['TaxAmount'], alpha=0.5)\n",
      "plt.title('Scatter Plot of Unit Price vs Tax Amount')\n",
      "plt.xlabel('Unit Price')\n",
      "plt.ylabel('Tax Amount')\n",
      "plt.grid(True)\n",
      "plt.show()\n"
     ]
    }
   ],
   "source": [
    "print(response[\"intermediate_steps\"][-1][0].tool_input['query'])"
   ]
  },
  {
   "cell_type": "code",
   "execution_count": 8,
   "metadata": {},
   "outputs": [
    {
     "name": "stdout",
     "output_type": "stream",
     "text": [
      "\n",
      "\n",
      "\u001b[1m> Entering new AgentExecutor chain...\u001b[0m\n",
      "\u001b[32;1m\u001b[1;3m\n",
      "Invoking: `python_repl_ast` with `{'query': \"import pandas as pd\\nimport matplotlib.pyplot as plt\\n\\n# Assuming df is already defined as per the provided data\\nplt.figure(figsize=(10, 6))\\nplt.scatter(df['UnitPrice'], df['TaxAmount'], alpha=0.5)\\nplt.title('Scatter Plot of Unit Price vs Tax Amount')\\nplt.xlabel('Unit Price')\\nplt.ylabel('Tax Amount')\\nplt.grid(True)\\nplt.show()\"}`\n",
      "\n",
      "\n",
      "\u001b[0m"
     ]
    },
    {
     "data": {
      "image/png": "[encoded data removed]",
      "text/plain": [
       "<Figure size 1000x600 with 1 Axes>"
      ]
     },
     "metadata": {},
     "output_type": "display_data"
    },
    {
     "name": "stdout",
     "output_type": "stream",
     "text": [
      "\u001b[36;1m\u001b[1;3m\u001b[0m\u001b[32;1m\u001b[1;3mThe scatter plot of Unit Price versus Tax Amount has been generated successfully. You can visualize the relationship between these two variables in the plot. If you need any further analysis or modifications, let me know!\u001b[0m\n",
      "\n",
      "\u001b[1m> Finished chain.\u001b[0m\n"
     ]
    }
   ],
   "source": [
    "query = \"plot scatter plot of unitprice and taxamount\"\n",
    "response = da_agent(query)"
   ]
  },
  {
   "cell_type": "code",
   "execution_count": 13,
   "metadata": {},
   "outputs": [
    {
     "name": "stdout",
     "output_type": "stream",
     "text": [
      "import pandas as pd\n",
      "import matplotlib.pyplot as plt\n",
      "\n",
      "# Assuming df is already defined as per the provided data\n",
      "plt.figure(figsize=(10, 6))\n",
      "plt.scatter(df['UnitPrice'], df['TaxAmount'], alpha=0.5)\n",
      "plt.title('Scatter Plot of Unit Price vs Tax Amount')\n",
      "plt.xlabel('Unit Price')\n",
      "plt.ylabel('Tax Amount')\n",
      "plt.grid(True)\n",
      "plt.show()\n"
     ]
    }
   ],
   "source": [
    "print(response[\"intermediate_steps\"][-1][0].tool_input['query'])"
   ]
  },
  {
   "cell_type": "code",
   "execution_count": null,
   "metadata": {},
   "outputs": [],
   "source": []
  }
 ],
 "metadata": {
  "kernelspec": {
   "display_name": "myenv",
   "language": "python",
   "name": "python3"
  },
  "language_info": {
   "codemirror_mode": {
    "name": "ipython",
    "version": 3
   },
   "file_extension": ".py",
   "mimetype": "text/x-python",
   "name": "python",
   "nbconvert_exporter": "python",
   "pygments_lexer": "ipython3",
   "version": "3.9.7"
  }
 },
 "nbformat": 4,
 "nbformat_minor": 2
}
